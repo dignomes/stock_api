{
  "nbformat": 4,
  "nbformat_minor": 0,
  "metadata": {
    "colab": {
      "provenance": []
    },
    "kernelspec": {
      "name": "python3",
      "display_name": "Python 3"
    },
    "language_info": {
      "name": "python"
    }
  },
  "cells": [
    {
      "cell_type": "code",
      "source": [
        "!pip install transformers -qq\n",
        "!pip install sentencepiece -qq\n",
        "!pip install --user annoy -qq\n",
        "!pip install -U sentence-transformers -qq"
      ],
      "metadata": {
        "colab": {
          "base_uri": "https://localhost:8080/"
        },
        "id": "hr6Zt59Ms80q",
        "outputId": "adfd08c9-6dc0-4874-ae1d-f590167166ea"
      },
      "execution_count": null,
      "outputs": [
        {
          "output_type": "stream",
          "name": "stdout",
          "text": [
            "\u001b[2K     \u001b[90m━━━━━━━━━━━━━━━━━━━━━━━━━━━━━━━━━━━━━━━━\u001b[0m \u001b[32m7.7/7.7 MB\u001b[0m \u001b[31m45.0 MB/s\u001b[0m eta \u001b[36m0:00:00\u001b[0m\n",
            "\u001b[2K     \u001b[90m━━━━━━━━━━━━━━━━━━━━━━━━━━━━━━━━━━━━━━━━\u001b[0m \u001b[32m302.0/302.0 kB\u001b[0m \u001b[31m24.7 MB/s\u001b[0m eta \u001b[36m0:00:00\u001b[0m\n",
            "\u001b[2K     \u001b[90m━━━━━━━━━━━━━━━━━━━━━━━━━━━━━━━━━━━━━━━━\u001b[0m \u001b[32m3.8/3.8 MB\u001b[0m \u001b[31m89.8 MB/s\u001b[0m eta \u001b[36m0:00:00\u001b[0m\n",
            "\u001b[2K     \u001b[90m━━━━━━━━━━━━━━━━━━━━━━━━━━━━━━━━━━━━━━━━\u001b[0m \u001b[32m1.3/1.3 MB\u001b[0m \u001b[31m73.0 MB/s\u001b[0m eta \u001b[36m0:00:00\u001b[0m\n",
            "\u001b[2K     \u001b[90m━━━━━━━━━━━━━━━━━━━━━━━━━━━━━━━━━━━━━━━━\u001b[0m \u001b[32m295.0/295.0 kB\u001b[0m \u001b[31m25.7 MB/s\u001b[0m eta \u001b[36m0:00:00\u001b[0m\n",
            "\u001b[2K     \u001b[90m━━━━━━━━━━━━━━━━━━━━━━━━━━━━━━━━━━━━━━━━\u001b[0m \u001b[32m1.3/1.3 MB\u001b[0m \u001b[31m14.7 MB/s\u001b[0m eta \u001b[36m0:00:00\u001b[0m\n",
            "\u001b[2K     \u001b[90m━━━━━━━━━━━━━━━━━━━━━━━━━━━━━━━━━━━━━━━━\u001b[0m \u001b[32m647.5/647.5 kB\u001b[0m \u001b[31m8.9 MB/s\u001b[0m eta \u001b[36m0:00:00\u001b[0m\n",
            "\u001b[?25h  Preparing metadata (setup.py) ... \u001b[?25l\u001b[?25hdone\n",
            "  Building wheel for annoy (setup.py) ... \u001b[?25l\u001b[?25hdone\n",
            "\u001b[2K     \u001b[90m━━━━━━━━━━━━━━━━━━━━━━━━━━━━━━━━━━━━━━━━\u001b[0m \u001b[32m86.0/86.0 kB\u001b[0m \u001b[31m1.9 MB/s\u001b[0m eta \u001b[36m0:00:00\u001b[0m\n",
            "\u001b[?25h  Preparing metadata (setup.py) ... \u001b[?25l\u001b[?25hdone\n",
            "  Building wheel for sentence-transformers (setup.py) ... \u001b[?25l\u001b[?25hdone\n"
          ]
        }
      ]
    },
    {
      "cell_type": "code",
      "source": [
        "len(embeddings[0])"
      ],
      "metadata": {
        "colab": {
          "base_uri": "https://localhost:8080/"
        },
        "id": "3M9Jy-pfmB5v",
        "outputId": "f852a137-07b1-4d98-e646-f339ea743fa6"
      },
      "execution_count": null,
      "outputs": [
        {
          "output_type": "execute_result",
          "data": {
            "text/plain": [
              "768"
            ]
          },
          "metadata": {},
          "execution_count": 6
        }
      ]
    },
    {
      "cell_type": "code",
      "source": [
        "len(last_hidden_state[0])"
      ],
      "metadata": {
        "id": "NhBvLl2Hvi90",
        "colab": {
          "base_uri": "https://localhost:8080/"
        },
        "outputId": "ccf7e7ce-e6ea-45b5-80bc-3845ad51e83f"
      },
      "execution_count": null,
      "outputs": [
        {
          "output_type": "execute_result",
          "data": {
            "text/plain": [
              "768"
            ]
          },
          "metadata": {},
          "execution_count": 15
        }
      ]
    },
    {
      "cell_type": "code",
      "source": [
        "import pandas as pd\n",
        "import numpy as np\n",
        "from tqdm import tqdm\n",
        "import ast\n",
        "from sentence_transformers import SentenceTransformer\n",
        "\n",
        "df = pd.read_csv(\"/content/data.csv\", index_col=0)\n",
        "model = SentenceTransformer('sentence-transformers/sentence-t5-large')\n",
        "\n",
        "vectors = []\n",
        "for index, row in tqdm(df.iterrows()):\n",
        "    #print(row['description'], row['tags'])\n",
        "    tags = \", \".join(ast.literal_eval(row['tags']))\n",
        "\n",
        "\n",
        "    text = f\"{row['description']} tags:{tags}, other params: market Cap:{row['marketCap']}, Last volume:{row['lastVolume']}, open:{row['open']}, previousClose:{row['previousClose']}\"\n",
        "    embeddings = model.encode([text])\n",
        "\n",
        "\n",
        "\n",
        "    vectors.append(np.array(embeddings[0]))\n",
        "\n",
        "\n"
      ],
      "metadata": {
        "colab": {
          "base_uri": "https://localhost:8080/"
        },
        "id": "1D4nbmn6tXOI",
        "outputId": "325476ac-7fbe-4d55-ebf9-8c9f43735e6f"
      },
      "execution_count": null,
      "outputs": [
        {
          "output_type": "stream",
          "name": "stderr",
          "text": [
            "69it [01:53,  1.64s/it]\n"
          ]
        }
      ]
    },
    {
      "cell_type": "code",
      "source": [
        "from annoy import AnnoyIndex\n",
        "import random\n",
        "\n",
        "f = 768\n",
        "\n",
        "t = AnnoyIndex(f, 'angular')\n",
        "for i,v in enumerate(vectors):\n",
        "    t.add_item(i, v)\n",
        "\n",
        "t.build(10)\n",
        "t.save('model.ann')\n",
        "\n",
        "\n",
        "\n",
        "u = AnnoyIndex(f, 'angular')\n",
        "u.load('model.ann')\n",
        "\n",
        "print([i for i in u.get_nns_by_item(0, 10) if i not in [4]][:5])"
      ],
      "metadata": {
        "colab": {
          "base_uri": "https://localhost:8080/"
        },
        "id": "WVIkSoLCv7HE",
        "outputId": "fc9b8969-19b3-4601-d2c0-b817b2323e61"
      },
      "execution_count": null,
      "outputs": [
        {
          "output_type": "stream",
          "name": "stdout",
          "text": [
            "[0, 38, 64, 5, 41]\n"
          ]
        }
      ]
    },
    {
      "cell_type": "code",
      "source": [
        "[0, 38, 64, 41, 5]\n"
      ],
      "metadata": {
        "id": "z5Rj7isxWGej",
        "colab": {
          "base_uri": "https://localhost:8080/"
        },
        "outputId": "9af51c4c-098a-4319-ab90-2b51133819aa"
      },
      "execution_count": null,
      "outputs": [
        {
          "output_type": "execute_result",
          "data": {
            "text/plain": [
              "4"
            ]
          },
          "metadata": {},
          "execution_count": 5
        }
      ]
    },
    {
      "cell_type": "code",
      "source": [],
      "metadata": {
        "id": "OSshXl5sdYBR"
      },
      "execution_count": null,
      "outputs": []
    }
  ]
}